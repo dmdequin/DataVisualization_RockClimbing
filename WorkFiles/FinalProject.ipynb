{
 "cells": [
  {
   "cell_type": "markdown",
   "id": "2c897ac0",
   "metadata": {},
   "source": [
    "# Visualizing Climbing Data"
   ]
  },
  {
   "cell_type": "markdown",
   "id": "a84d69d5",
   "metadata": {},
   "source": [
    "This notebook contains the code used for the final project in Data Visualiztion and Data-Driven Decision Making in Spring 2022 at the IT University in Copenhagen."
   ]
  },
  {
   "cell_type": "markdown",
   "id": "fa66a0eb",
   "metadata": {},
   "source": [
    "Data Source:\n",
    "https://github.com/OpenBeta/climbing-data/tree/main/curated_datasets"
   ]
  },
  {
   "cell_type": "code",
   "execution_count": null,
   "id": "43643fac",
   "metadata": {},
   "outputs": [],
   "source": [
    "from IPython.display import SVG\n",
    "import pandas as pd"
   ]
  },
  {
   "cell_type": "markdown",
   "id": "a664138d",
   "metadata": {},
   "source": [
    "# Curated Data"
   ]
  },
  {
   "cell_type": "markdown",
   "id": "787cb299",
   "metadata": {},
   "source": [
    "Inspecting the curated data set"
   ]
  },
  {
   "cell_type": "code",
   "execution_count": null,
   "id": "4a4f88b7",
   "metadata": {},
   "outputs": [],
   "source": [
    "df_curated = pd.read_pickle('../Data/Curated_OpenBetaAug2020_RytherAnderson.pkl.zip', compression='zip')"
   ]
  },
  {
   "cell_type": "code",
   "execution_count": null,
   "id": "1feee4b6",
   "metadata": {
    "scrolled": true
   },
   "outputs": [],
   "source": [
    "df_curated.head(2)"
   ]
  },
  {
   "cell_type": "code",
   "execution_count": null,
   "id": "5c06290d",
   "metadata": {},
   "outputs": [],
   "source": []
  },
  {
   "cell_type": "markdown",
   "id": "e73a4667",
   "metadata": {},
   "source": [
    "# Curated With Ratings\n"
   ]
  },
  {
   "cell_type": "markdown",
   "id": "89056d1c",
   "metadata": {},
   "source": [
    "Inspecting the curated dataset that had ratings"
   ]
  },
  {
   "cell_type": "code",
   "execution_count": null,
   "id": "52155269",
   "metadata": {},
   "outputs": [],
   "source": [
    "df_curated_with_ratings = pd.read_pickle('../Data/CuratedWithRatings_OpenBetaAug2020_RytherAnderson.pkl.zip', compression='zip')"
   ]
  },
  {
   "cell_type": "code",
   "execution_count": null,
   "id": "6b3fdc09",
   "metadata": {},
   "outputs": [],
   "source": [
    "df_curated_with_ratings.head(2)"
   ]
  },
  {
   "cell_type": "markdown",
   "id": "d0727d88",
   "metadata": {},
   "source": [
    "### Compute Average Rating"
   ]
  },
  {
   "cell_type": "code",
   "execution_count": null,
   "id": "0eaf3079",
   "metadata": {},
   "outputs": [],
   "source": [
    "df = df_curated_with_ratings.copy()\n",
    "df['ave_rating'] = ''\n",
    "df['count_ratings'] = ''\n",
    "\n",
    "# loop through df and compute average rating and number of ratings\n",
    "for idx, row in df_curated_with_ratings.iterrows():\n",
    "    cnt = len(row['corrected_users_ratings'])\n",
    "    sums = sum(tup[1] for tup in row['corrected_users_ratings'])\n",
    "    av = sums/cnt\n",
    "    df.at[idx, 'ave_rating'] = round(av,1)\n",
    "    df.at[idx, 'count_ratings'] = cnt"
   ]
  },
  {
   "cell_type": "code",
   "execution_count": null,
   "id": "6d438514",
   "metadata": {},
   "outputs": [],
   "source": [
    "df.head(2)"
   ]
  },
  {
   "cell_type": "code",
   "execution_count": null,
   "id": "db4fe12e",
   "metadata": {},
   "outputs": [],
   "source": [
    "print(f\"Miminum rating: {df['ave_rating'].min()}\\nMaximum rating: {df['ave_rating'].max()}\")"
   ]
  },
  {
   "cell_type": "code",
   "execution_count": null,
   "id": "169588df",
   "metadata": {},
   "outputs": [],
   "source": [
    "# Save this to csv\n",
    "#df.to_csv('CuratedWithAverageRating.csv')"
   ]
  },
  {
   "cell_type": "markdown",
   "id": "e50c8ae9",
   "metadata": {},
   "source": [
    "# Boulder Safety and Stars"
   ]
  },
  {
   "cell_type": "markdown",
   "id": "490efefc",
   "metadata": {},
   "source": [
    "Inspecting the Bouldering data set"
   ]
  },
  {
   "cell_type": "code",
   "execution_count": null,
   "id": "dcb4778a",
   "metadata": {},
   "outputs": [],
   "source": [
    "df_boulders = pd.read_csv('../Data/Boulder_Safety_and_Stars.csv')#,names=['dumb','ID','type','name','Vermin','stars','votes','safety'], index_col='index')\n",
    "df_boulders"
   ]
  },
  {
   "cell_type": "code",
   "execution_count": null,
   "id": "5da1c16a",
   "metadata": {},
   "outputs": [],
   "source": [
    "df_boulders.head(2)"
   ]
  },
  {
   "cell_type": "code",
   "execution_count": null,
   "id": "539a3cfd",
   "metadata": {},
   "outputs": [],
   "source": [
    "len(df_boulders)"
   ]
  },
  {
   "cell_type": "code",
   "execution_count": null,
   "id": "94d3a0e2",
   "metadata": {},
   "outputs": [],
   "source": [
    "print(f\"Miminum rating: {df_boulders['stars'].min()}\\nMaximum rating: {df_boulders['stars'].max()}\")"
   ]
  },
  {
   "cell_type": "markdown",
   "id": "64d97f82",
   "metadata": {},
   "source": [
    "#### The maximum rating is higher than in the other dataset, which does not coincide with the rating system on Mountain Project."
   ]
  },
  {
   "cell_type": "code",
   "execution_count": null,
   "id": "95a68c2b",
   "metadata": {},
   "outputs": [],
   "source": [
    "df_boulders[df_boulders['stars']==1.0]"
   ]
  },
  {
   "cell_type": "markdown",
   "id": "bc71cfd0",
   "metadata": {},
   "source": [
    "#### A comparison was done with the routes in the dataset and the routes on Mountain Project:\n",
    "The amount of stars are different in the boulder dataset than the previous two datasets. In the boulder data, they count the \"bomb\" as the first star, so the number of stars goes up to 5. Whereas in the previous data, they only count the number of stars a route is given, which starts at 1 and goes to 4. I will adjust the numbers in alteryx so that the systems are the same."
   ]
  }
 ],
 "metadata": {
  "kernelspec": {
   "display_name": "Python 3 (ipykernel)",
   "language": "python",
   "name": "python3"
  },
  "language_info": {
   "codemirror_mode": {
    "name": "ipython",
    "version": 3
   },
   "file_extension": ".py",
   "mimetype": "text/x-python",
   "name": "python",
   "nbconvert_exporter": "python",
   "pygments_lexer": "ipython3",
   "version": "3.9.12"
  }
 },
 "nbformat": 4,
 "nbformat_minor": 5
}
